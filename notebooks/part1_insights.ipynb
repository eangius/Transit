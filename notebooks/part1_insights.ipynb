{
 "cells": [
  {
   "cell_type": "markdown",
   "id": "8e12b900-07fb-43fa-868b-733cd301f563",
   "metadata": {},
   "source": [
    "# Dataset Insights"
   ]
  },
  {
   "cell_type": "markdown",
   "id": "dcacc6c9-5636-4871-bc00-1771a068d815",
   "metadata": {},
   "source": [
    "----\n",
    "**[<<PREV](part1_insights.ipynb)** |\n",
    "**[NEXT>>](part2_implementation.ipynb)**"
   ]
  }
 ],
 "metadata": {
  "kernelspec": {
   "display_name": "Python 3 (ipykernel)",
   "language": "python",
   "name": "python3"
  },
  "language_info": {
   "codemirror_mode": {
    "name": "ipython",
    "version": 3
   },
   "file_extension": ".py",
   "mimetype": "text/x-python",
   "name": "python",
   "nbconvert_exporter": "python",
   "pygments_lexer": "ipython3",
   "version": "3.9.5"
  }
 },
 "nbformat": 4,
 "nbformat_minor": 5
}
