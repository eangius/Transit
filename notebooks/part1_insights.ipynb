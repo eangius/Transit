{
 "cells": [
  {
   "cell_type": "markdown",
   "id": "8e12b900-07fb-43fa-868b-733cd301f563",
   "metadata": {},
   "source": [
    "# Dataset Insights"
   ]
  },
  {
   "cell_type": "code",
   "execution_count": null,
   "id": "d8cc8fdc-785c-4d95-80c4-a0f791c95923",
   "metadata": {},
   "outputs": [],
   "source": []
  }
 ],
 "metadata": {
  "kernelspec": {
   "display_name": "Python 3 (ipykernel)",
   "language": "python",
   "name": "python3"
  },
  "language_info": {
   "codemirror_mode": {
    "name": "ipython",
    "version": 3
   },
   "file_extension": ".py",
   "mimetype": "text/x-python",
   "name": "python",
   "nbconvert_exporter": "python",
   "pygments_lexer": "ipython3",
   "version": "3.9.5"
  }
 },
 "nbformat": 4,
 "nbformat_minor": 5
}
