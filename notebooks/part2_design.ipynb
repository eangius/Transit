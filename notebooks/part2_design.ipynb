{
 "cells": [
  {
   "cell_type": "markdown",
   "id": "5b70d266-135d-4191-8ec0-3793d4f858db",
   "metadata": {},
   "source": [
    "# System Design\n",
    "This section proposes a real-time system to predict bus arrival times. We describe this in laymen's terms for general audiences but also provide detailed sub-section [[⚙️]](#) for technical audiences that want to learn more.\n"
   ]
  },
  {
   "cell_type": "markdown",
   "id": "4a8771f3-9f16-4e8b-bdd3-1bed94fa5a99",
   "metadata": {},
   "source": [
    "----\n",
    "## Problem Framing"
   ]
  },
  {
   "cell_type": "markdown",
   "id": "97418e39-b85b-4af2-88b8-e7a9c911f0a4",
   "metadata": {},
   "source": [
    "We treat this as a regression task where the system is to predict the next bus arrival deviation time (in minutes) for a given stop in the transit network [[⚙️12]](#). Learning is implicitly supervised from historical route trips. Given routes are sequences of stops who's arrival time is influenced by that of previous stops, we model the input, as shown in the figure below, as a sequence problem [[⚙️3]](#).\n",
    "\n",
    "<img src=\"../images/problem_framing.png\" width=\"100%\">"
   ]
  },
  {
   "cell_type": "markdown",
   "id": "2fb6cc25-1c13-4e74-ab4e-ba4486f34a8a",
   "metadata": {},
   "source": [
    "To predict the arrival time for any given stop at any moment (orange highlighted target in the figure), the system uses 2 context windows as input. The spatial window tracks the status times of previous stops in the current routes' trip with respect to bus GPS location & is meant to represent local &/or resent state of the environment. Meanwhile, the temporal window tracks the status times of the target stop in previous route trips & is meant to represent lingering or accumulated global congestion.\n",
    "\n",
    "To forecast future stop (right of target in figure) the system is to recursively predict forward the next stop arrival time assuming the previous predictions were accurate."
   ]
  },
  {
   "cell_type": "markdown",
   "id": "e866e4c3-c5df-415d-b182-1c2cb1fc492a",
   "metadata": {
    "jp-MarkdownHeadingCollapsed": true
   },
   "source": [
    "----\n",
    "## Dataset Preparation"
   ]
  },
  {
   "cell_type": "markdown",
   "id": "f600a371-fd6d-4f5f-bf8a-4dbbeac54556",
   "metadata": {},
   "source": [
    "To build & evaluate our system, we need to create representative open `train`, `validate` & blind `test` datasets. Each of these must not only preserve the time-series chronology of the data but also respect each route sequence of stops [[⚙️7]](#). We achieve this in 2 steps."
   ]
  },
  {
   "cell_type": "markdown",
   "id": "151eb48a-8de2-46f5-8e1f-0de1f1331336",
   "metadata": {},
   "source": [
    "### Triage Step\n",
    "Employ a on-overlapping moving window split strategy as shown next.\n",
    "That is, sampling will partition the time-series in chronological sized chunks (say `3 day` period with `1 day` gap [[⚙️8]](#)) taking all available route data within each period. [[⚙️9]](#)\n",
    "<img src=\"../images/dataset_sampling.png\" width=\"100%\">"
   ]
  },
  {
   "cell_type": "markdown",
   "id": "d780acc0-6152-4710-922c-d1dee440f720",
   "metadata": {},
   "source": [
    "### Contextualize Step\n",
    "For each dataset, we need to aggregate the individual stops of a directional route into a time stamped sequence. We then pass our spatial & temporal sliding windows (say of `S` & `T` respective sizes) to get 2 sequences of contextual data to learn from as well as the observed deviation time label to predict.\n",
    "\n",
    "$$\n",
    "\\vec{spatial\\_window} = \\left [ \n",
    "stop\\_id^{\\hspace{0.1cm}s=S}_{\\hspace{0.1cm}t=0},\n",
    "\\cdots ,\n",
    "stop\\_id^{\\hspace{0.1cm}s=-2}_{\\hspace{0.1cm}t=0},\n",
    "stop\\_id^{\\hspace{0.1cm}s=-2}_{\\hspace{0.1cm}t=0}\n",
    "\\right ]\n",
    "$$\n",
    "$$\n",
    "\\vec{temporal\\_window} = \\left [ \n",
    "stop\\_id^{\\hspace{0.1cm}s=0}_{\\hspace{0.1cm}t=-T},\n",
    "\\cdots ,\n",
    "stop\\_id^{\\hspace{0.1cm}s=0}_{\\hspace{0.1cm}t=-2},\n",
    "stop\\_id^{\\hspace{0.1cm}s=0}_{\\hspace{0.1cm}t=-1}\n",
    "\\right ]\n",
    "$$\n",
    "$$\n",
    "predict\\_label = stop\\_id^{\\hspace{0.1cm}s=0}_{\\hspace{0.1cm}t=0}\n",
    "$$\n",
    "[[⚙️10]](#) [[⚙️11]](#)\n"
   ]
  },
  {
   "cell_type": "markdown",
   "id": "7dc73013-5946-4ab8-a50d-bae8ca292b60",
   "metadata": {
    "jp-MarkdownHeadingCollapsed": true
   },
   "source": [
    "----\n",
    "## Feature Engineering"
   ]
  },
  {
   "cell_type": "markdown",
   "id": "572886c7-cb73-4b9c-9556-3bb6ff188ed1",
   "metadata": {
    "jp-MarkdownHeadingCollapsed": true
   },
   "source": [
    "### Temporal Signals\n",
    "Anythings that describes moment in time the prediction needs to be made.\n",
    "  - current & scheduled second in minute [[⚙️1]](#)\n",
    "  - current & scheduled minute in hour [[⚙️1]](#)\n",
    "  - current & scheduled time of day [[⚙️1]](#)\n",
    "  - current & scheduled day of week [[⚙️1]](#)\n",
    "  - current & scheduled month in year [[⚙️1]](#)\n",
    "  - current holiday flag (ie: x-mas, Canada Day, Louis Riel Day, ..)"
   ]
  },
  {
   "cell_type": "markdown",
   "id": "84027bf2-6870-483b-b900-fc8f39d2e7ea",
   "metadata": {},
   "source": [
    "### Spatial Signals\n",
    "Anything that describes the static geographic conditions of the stops.\n",
    "  - stop location (ie: parent & neighboring areas [[⚙️2]](#))\n",
    "  - stop intersection type (ie: lights, stop-sign, mid-road, ..)\n",
    "  - speed limits between stops\n",
    "  - distance between stops\n",
    "  - % road types between stops (ie: street, ave, freeway, ..)\n",
    "  - road attributes between stops (ie: tunnels, bridges)\n",
    "  - number of routes served by this stop\n",
    "  - zone (ie: commercial, residential, industrial)\n",
    "  - population density around stop(ie: within various 50-500m radii)\n",
    "  - distance to special POIs (ie: fire station, hospital, school, train stations, ..)"
   ]
  },
  {
   "cell_type": "markdown",
   "id": "ba624d68-0041-4b3e-ad3a-cc412f36bd5f",
   "metadata": {},
   "source": [
    "### Contextual Signals\n",
    "Anything that describes the dynamic state of the transit network.\n",
    "  - next bus GPS coordinates\n",
    "  - next bus passenger volume\n",
    "  - passengers waiting at previous `n` stops along route\n",
    "  - current route bus status at previous `n` stops (ie: early, delayed, on-time, pending)\n",
    "  - previous route bus status at target stop. (ie: early, delayed, on-time, pending)\n",
    "  - weather conditions (ie: rain, snow, wind, fog, ..)\n",
    "  - road closures (ie: construction, incidents, festivities, ..)\n",
    "  - current traffic levels between stops (ie: low, medium, high)\n"
   ]
  },
  {
   "cell_type": "markdown",
   "id": "9b4b164d-15a6-4027-be90-1d954cd3c3d6",
   "metadata": {
    "jp-MarkdownHeadingCollapsed": true
   },
   "source": [
    "----\n",
    "## System Architecture"
   ]
  },
  {
   "cell_type": "markdown",
   "id": "b8345f8f-f30b-4349-956d-e63124ef68b2",
   "metadata": {},
   "source": [
    "The proposed high level architecture is shown below. Whenever a bus arrival time prediction is requested for known stops in the transit network, the system must be given the conditions of the route window with contextual data as described in previous sections.\n",
    "\n",
    "<img src=\"../images/system_arch.png\" width=\"100%\">\n",
    "\n",
    "The first part of the architecture *transforms* inputs into values for the final *estimator* part to interpret & produce a time deviation result.\n",
    "\n",
    "Since the data is heavily skewed, the transformer is also responsible for balancing (at learning time) the proportions of ``delayed``, ``early`` & ``on-time`` examples the estimator sees [[⚙️4]](#).\n",
    "\n",
    "The estimator itself, consist in training a couple sub-models. The spatial sub-model learns to predict the arrival time given the status of the previous stops of the current route. While the temporal sub model learns to predict the arrival time given the status of the previous routes for the given stop [[⚙️3]](#) [[⚙️5]](#). Since the data has several outlier spikes, we further propose an anomaly detection sub-model to help learn how these propagate through the transit network [[⚙️6]](#)."
   ]
  },
  {
   "cell_type": "markdown",
   "id": "fe62d50b-0943-4be9-b357-418f30b04bba",
   "metadata": {
    "jp-MarkdownHeadingCollapsed": true
   },
   "source": [
    "----\n",
    "## Tuning & Evaluation"
   ]
  },
  {
   "cell_type": "markdown",
   "id": "28bcb5f4-0370-46b0-b20b-fd818e20da17",
   "metadata": {},
   "source": [
    "* hyper parameters (ie: spatial & temporal window sizes, featue encodings)\n",
    "* probability calibration\n",
    "* temporal kfold validation"
   ]
  },
  {
   "cell_type": "markdown",
   "id": "4c1586b2-c766-4d4f-8bca-bf22e82febe1",
   "metadata": {},
   "source": [
    "----\n",
    "## System Integration"
   ]
  },
  {
   "cell_type": "markdown",
   "id": "c0c0ad34-6b64-4a3b-8507-124c68c363e8",
   "metadata": {},
   "source": [
    "### Training Time\n",
    "* Retrain the system whenever:\n",
    "  - route or stop locations are added, removed or changed.\n",
    "  - route schedules are updated\n",
    "  - annually to account for behavior changes (due to demographics, roads, pois, price, ..)\n",
    "\n",
    "### Inference Time\n",
    "* use schedule times at the start of the route.\n",
    "* trigger system whenever bus arrives & departs from a stop\n",
    "* also trigger at periodic intervals should bus be spontaneously stuck in traffic.\n",
    "* triggering the system to predict arrival time for next stop & use that estimate to simulate predictions for all subsequent stops in route."
   ]
  },
  {
   "cell_type": "markdown",
   "id": "96cf0f3a-c5df-4e8d-abc9-286e6d7ba27f",
   "metadata": {
    "jp-MarkdownHeadingCollapsed": true
   },
   "source": [
    "----\n",
    "## Technical Details"
   ]
  },
  {
   "cell_type": "markdown",
   "id": "1a26d524-b3f2-49ad-8202-69e1b35618a6",
   "metadata": {},
   "source": [
    "\n",
    "\\[⚙️1]: To avoid the curse of high dimensionality from one-hot-encoding categorical features that are cyclical in nature, we can instead trigonometrically encode these with only 2 features per signal.\n",
    "\n",
    "\\[⚙️2]: ``H3`` or ``Geohash`` are geo-indexing schemes that let you navigate to nested & neighbor areas quickly. They group various *lat,lng* points to the same hash area helping transfer learn areas.\n",
    "\n",
    "\\[⚙️3]: Use of ``LSTM`` or ``Transformer`` architectures is recommended. Unlike classical machine learned algorithms like ``RandomForestRegressor`` or ``XGBRegressor``, these are deep learned recurrent neural networks that leverage the sequential structure of  data. Care must be taken to only model forward uni-directionality of data to avoid *data leakage* from learning with future unavailable data at production time.\n",
    "\n",
    "\\[⚙️4]: Since data is plentiful, we recommend ``NearMiss`` down sampling the majority classes which ignores easy to predict data. However, we can also employ ``SMOTE`` techniques to synthesize artificial datapoints for the minority classes.\n",
    "\n",
    "\\[⚙️5]: Scaling the collection of signals before learning ensures all features are weighted equally despite their units or magnitude ranges.\n",
    "\n",
    "\\[⚙️6]: Suitable techniques for anomaly detection include `OneVsRestClassifier`, ``IsolationForestRegressor`` or ``DBSCAN`` dimensionality reduction which involve learning what is common & flagging the outliers.\n",
    "\n",
    "\\[⚙️7]: This is important to avoid *data leakage*. We don't want the model to train on end of route data when asked to predict start of route arrival times. Likewise we don't want model to train on end of day data when asked to predict start of day. Both cases lead model to \"memorize\" answer in the lab that it will not have in production. So must ensure spatial or temporal splits of route data do not occur.\n",
    "\n",
    "\\[⚙️8]: Gap sampling is used as a technique to further guard against *data leakage*. By ignoring this in-between data, we ensure the evaluation sets are less temporally correlated to the learning sets.\n",
    "\n",
    "\\[⚙️9]: Care must be taken when choosing sampling period & gap sizes as some combinations might entirely exclude certain days of the week out of the evaluation set creating a learning bias.\n",
    "\n",
    "\\[⚙️10]: To properly learn arrival times for stops at the start & end of routes, we need to pad the input lists with an out-of-vocabulary id.\n",
    "\n",
    "\\[⚙️11]: Notice that we encode our dataset with stop-ids rather than the arrival time deviation. This is a `hashing-trick` to save memory & decouple the information vector from the reference of stops.\n",
    "\n",
    "\\[⚙️12]: All stops are assumed to be uniquely identifiable by `Route Number`, `Route Direction` & `Stop Number`. "
   ]
  },
  {
   "cell_type": "markdown",
   "id": "00c3278f-b1f0-4d24-8e74-45dc21605528",
   "metadata": {},
   "source": [
    "----"
   ]
  }
 ],
 "metadata": {
  "kernelspec": {
   "display_name": "Python 3 (ipykernel)",
   "language": "python",
   "name": "python3"
  },
  "language_info": {
   "codemirror_mode": {
    "name": "ipython",
    "version": 3
   },
   "file_extension": ".py",
   "mimetype": "text/x-python",
   "name": "python",
   "nbconvert_exporter": "python",
   "pygments_lexer": "ipython3",
   "version": "3.9.5"
  }
 },
 "nbformat": 4,
 "nbformat_minor": 5
}
