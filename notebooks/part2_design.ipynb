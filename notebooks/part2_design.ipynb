{
 "cells": [
  {
   "cell_type": "markdown",
   "id": "5b70d266-135d-4191-8ec0-3793d4f858db",
   "metadata": {},
   "source": [
    "# System Design\n",
    "This section proposes a real-time system to predict bus arrival times. We describe this in laymen's terms for general audiences but also provide detailed sub-section [[⚙️]](#) for technical audiences that want to learn more.\n"
   ]
  },
  {
   "cell_type": "markdown",
   "id": "4a8771f3-9f16-4e8b-bdd3-1bed94fa5a99",
   "metadata": {},
   "source": [
    "----\n",
    "## Problem Framing"
   ]
  },
  {
   "cell_type": "markdown",
   "id": "2fb6cc25-1c13-4e74-ab4e-ba4486f34a8a",
   "metadata": {},
   "source": [
    "* regression problem\n",
    "* implicitly supervised learning from historical data\n",
    "* leverage sequential structure of routes [[⚙️3]](#)"
   ]
  },
  {
   "cell_type": "markdown",
   "id": "427c5367-04e7-4446-ab87-9d03b8913173",
   "metadata": {},
   "source": [
    "<img src=\"../images/problem_framing.png\" width=\"100%\">"
   ]
  },
  {
   "cell_type": "markdown",
   "id": "e866e4c3-c5df-415d-b182-1c2cb1fc492a",
   "metadata": {},
   "source": [
    "----\n",
    "## Dataset Preparation"
   ]
  },
  {
   "cell_type": "markdown",
   "id": "f600a371-fd6d-4f5f-bf8a-4dbbeac54556",
   "metadata": {},
   "source": [
    "* Windows train/validation/test split\n",
    "* Route Status Padding\n",
    "* Train Data Balancer"
   ]
  },
  {
   "cell_type": "markdown",
   "id": "151eb48a-8de2-46f5-8e1f-0de1f1331336",
   "metadata": {},
   "source": [
    "<img src=\"../images/dataset_sampling.png\" width=\"100%\">"
   ]
  },
  {
   "cell_type": "markdown",
   "id": "7dc73013-5946-4ab8-a50d-bae8ca292b60",
   "metadata": {},
   "source": [
    "----\n",
    "## Feature Engineering"
   ]
  },
  {
   "cell_type": "markdown",
   "id": "572886c7-cb73-4b9c-9556-3bb6ff188ed1",
   "metadata": {
    "jp-MarkdownHeadingCollapsed": true
   },
   "source": [
    "### Temporal Signals\n",
    "Anythings that describes moment in time the prediction needs to be made.\n",
    "  - current & scheduled minute in hour [[⚙️1]](#)\n",
    "  - current & scheduled time of day [[⚙️1]](#)\n",
    "  - current & scheduled day of week [[⚙️1]](#)\n",
    "  - current & scheduled month in year [[⚙️1]](#)\n",
    "  - holiday flag (ie: x-mas, Louis Riel Day, ..)"
   ]
  },
  {
   "cell_type": "markdown",
   "id": "84027bf2-6870-483b-b900-fc8f39d2e7ea",
   "metadata": {},
   "source": [
    "### Spatial Signals\n",
    "Anything that describes the static geographic conditions of the stops.\n",
    "  - stop location (ie: parent & neighbouring areas [[⚙️2]](#))\n",
    "  - stop intersection type (ie: lights, stop-sign, mid-road, ..)\n",
    "  - speed limits between stops\n",
    "  - distance between stops\n",
    "  - % road types between stops (ie: street, ave, freeway, ..)\n",
    "  - road attributes between stops (ie: tunnels, bridges)\n",
    "  - number of routes served by this stop\n",
    "  - zone (ie: commercial, residential, industrial)\n",
    "  - population density around stop(ie: within various 50-500m radii)\n",
    "  - distance to special POIs (ie: fire station, hospital, school, train stations, ..)"
   ]
  },
  {
   "cell_type": "markdown",
   "id": "ba624d68-0041-4b3e-ad3a-cc412f36bd5f",
   "metadata": {},
   "source": [
    "### Contextual Signals\n",
    "Anything that describes the dynamic state of the transit network.\n",
    "  - next bus GPS coordinates\n",
    "  - next bus passenger volume\n",
    "  - passengers waiting at previous `n` stops along route\n",
    "  - bus status at previous `n` stops (ie: early, delayed, on-time, pending)\n",
    "  - weather conditions (ie: rain, snow, wind, fog, ..)\n",
    "  - road closures (ie: construction, incidents, festivities, ..)\n",
    "  - traffic levels (ie: low, medium, high)\n"
   ]
  },
  {
   "cell_type": "markdown",
   "id": "9b4b164d-15a6-4027-be90-1d954cd3c3d6",
   "metadata": {},
   "source": [
    "----\n",
    "## Model Architecture"
   ]
  },
  {
   "cell_type": "markdown",
   "id": "fe62d50b-0943-4be9-b357-418f30b04bba",
   "metadata": {},
   "source": [
    "----\n",
    "## Tuning & Evaluation\n"
   ]
  },
  {
   "cell_type": "markdown",
   "id": "4c1586b2-c766-4d4f-8bca-bf22e82febe1",
   "metadata": {},
   "source": [
    "----\n",
    "## System Integration\n"
   ]
  },
  {
   "cell_type": "markdown",
   "id": "1a26d524-b3f2-49ad-8202-69e1b35618a6",
   "metadata": {},
   "source": [
    "----\n",
    "## Technical Details\n",
    "\n",
    "\\[⚙️1]: To avoid the curse of high dimensionality from one-hot-encoding categorical features that are cyclical in nature, we can instead trigonometrically encode these with only 2 features per signal.\n",
    "\n",
    "\\[⚙️2]: ``H3`` or ``Geohash`` are geo-indexing schemes that let you navigate to nested & neighbouring areas quickly. They group various *lat,lng* points to the same hash area helping transfer learn areas.\n",
    "\n",
    "\\[⚙️3]: Use of ``LSTM`` or ``Transformer`` architectures is recommended. Unlike classical machine learned algorithms like ``RandomForestRegressor`` or ``XGBRegressor``, these are deep learned recurrent neural networks that leverage the sequential structure of  data. Care must be taken to only model forward uni-directionality of data to avoid *data leackage* from learning with future unavailable data at production time."
   ]
  },
  {
   "cell_type": "markdown",
   "id": "00c3278f-b1f0-4d24-8e74-45dc21605528",
   "metadata": {},
   "source": [
    "----"
   ]
  }
 ],
 "metadata": {
  "kernelspec": {
   "display_name": "Python 3 (ipykernel)",
   "language": "python",
   "name": "python3"
  },
  "language_info": {
   "codemirror_mode": {
    "name": "ipython",
    "version": 3
   },
   "file_extension": ".py",
   "mimetype": "text/x-python",
   "name": "python",
   "nbconvert_exporter": "python",
   "pygments_lexer": "ipython3",
   "version": "3.9.5"
  }
 },
 "nbformat": 4,
 "nbformat_minor": 5
}
