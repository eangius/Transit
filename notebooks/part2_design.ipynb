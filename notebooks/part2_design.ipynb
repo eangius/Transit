{
 "cells": [
  {
   "cell_type": "markdown",
   "id": "5b70d266-135d-4191-8ec0-3793d4f858db",
   "metadata": {},
   "source": [
    "# System Design"
   ]
  },
  {
   "cell_type": "markdown",
   "id": "00c3278f-b1f0-4d24-8e74-45dc21605528",
   "metadata": {},
   "source": [
    "----\n",
    "**[<<PREV](notebooks/part1_insights.ipynb)** |\n",
    "**[NEXT>>](notebooks/part3_implementation.ipynb)**"
   ]
  }
 ],
 "metadata": {
  "kernelspec": {
   "display_name": "Python 3 (ipykernel)",
   "language": "python",
   "name": "python3"
  },
  "language_info": {
   "codemirror_mode": {
    "name": "ipython",
    "version": 3
   },
   "file_extension": ".py",
   "mimetype": "text/x-python",
   "name": "python",
   "nbconvert_exporter": "python",
   "pygments_lexer": "ipython3",
   "version": "3.9.5"
  }
 },
 "nbformat": 4,
 "nbformat_minor": 5
}
