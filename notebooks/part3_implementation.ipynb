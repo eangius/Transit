{
 "cells": [
  {
   "cell_type": "markdown",
   "id": "6bc8f966-bc9d-4a3b-9945-ae5a18811c9c",
   "metadata": {},
   "source": [
    "# Prototype Implementation\n",
    "TODO\n"
   ]
  },
  {
   "cell_type": "markdown",
   "id": "c3785c7c-dc76-47c3-91b7-3b1c0d87ff67",
   "metadata": {},
   "source": [
    "----\n",
    "## Next Steps"
   ]
  },
  {
   "cell_type": "markdown",
   "id": "27fba145-b04d-411b-8b46-1ab782e6c292",
   "metadata": {},
   "source": [
    "----"
   ]
  }
 ],
 "metadata": {
  "kernelspec": {
   "display_name": "Python 3 (ipykernel)",
   "language": "python",
   "name": "python3"
  },
  "language_info": {
   "codemirror_mode": {
    "name": "ipython",
    "version": 3
   },
   "file_extension": ".py",
   "mimetype": "text/x-python",
   "name": "python",
   "nbconvert_exporter": "python",
   "pygments_lexer": "ipython3",
   "version": "3.9.5"
  }
 },
 "nbformat": 4,
 "nbformat_minor": 5
}
