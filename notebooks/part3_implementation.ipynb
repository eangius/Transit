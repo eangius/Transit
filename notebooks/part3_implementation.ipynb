{
 "cells": [
  {
   "cell_type": "markdown",
   "id": "6bc8f966-bc9d-4a3b-9945-ae5a18811c9c",
   "metadata": {},
   "source": [
    "# Prototype Implementation"
   ]
  },
  {
   "cell_type": "code",
   "execution_count": null,
   "id": "6d6a005b-5856-4df2-8ba0-e3a1427f631e",
   "metadata": {},
   "outputs": [],
   "source": []
  }
 ],
 "metadata": {
  "kernelspec": {
   "display_name": "Python 3 (ipykernel)",
   "language": "python",
   "name": "python3"
  },
  "language_info": {
   "codemirror_mode": {
    "name": "ipython",
    "version": 3
   },
   "file_extension": ".py",
   "mimetype": "text/x-python",
   "name": "python",
   "nbconvert_exporter": "python",
   "pygments_lexer": "ipython3",
   "version": "3.9.5"
  }
 },
 "nbformat": 4,
 "nbformat_minor": 5
}
