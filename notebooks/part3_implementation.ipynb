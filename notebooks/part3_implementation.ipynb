{
 "cells": [
  {
   "cell_type": "markdown",
   "id": "6bc8f966-bc9d-4a3b-9945-ae5a18811c9c",
   "metadata": {},
   "source": [
    "# Prototype Implementation"
   ]
  },
  {
   "cell_type": "code",
   "execution_count": null,
   "id": "2bd9de51-4ba7-46c3-9edf-74c1c4a3c8cd",
   "metadata": {},
   "outputs": [],
   "source": []
  },
  {
   "cell_type": "markdown",
   "id": "27fba145-b04d-411b-8b46-1ab782e6c292",
   "metadata": {
    "jp-MarkdownHeadingCollapsed": true
   },
   "source": [
    "----\n",
    "## **[<<PREV](part2_design.ipynb)** | **[NEXT>>](part3_implementation.ipynb)**"
   ]
  },
  {
   "cell_type": "code",
   "execution_count": null,
   "id": "8235b057-fe05-41e2-963f-aa1fa41b7b12",
   "metadata": {},
   "outputs": [],
   "source": []
  }
 ],
 "metadata": {
  "kernelspec": {
   "display_name": "Python 3 (ipykernel)",
   "language": "python",
   "name": "python3"
  },
  "language_info": {
   "codemirror_mode": {
    "name": "ipython",
    "version": 3
   },
   "file_extension": ".py",
   "mimetype": "text/x-python",
   "name": "python",
   "nbconvert_exporter": "python",
   "pygments_lexer": "ipython3",
   "version": "3.9.5"
  }
 },
 "nbformat": 4,
 "nbformat_minor": 5
}
